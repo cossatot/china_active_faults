{
 "cells": [
  {
   "cell_type": "code",
   "execution_count": 1,
   "metadata": {},
   "outputs": [],
   "source": [
    "import json\n",
    "import random"
   ]
  },
  {
   "cell_type": "code",
   "execution_count": 2,
   "metadata": {},
   "outputs": [],
   "source": [
    "with open(\"../block_data/chn_blocks.geojson\") as f:\n",
    "    gj = json.load(f)"
   ]
  },
  {
   "cell_type": "code",
   "execution_count": 3,
   "metadata": {},
   "outputs": [],
   "source": [
    "fs = gj[\"features\"]"
   ]
  },
  {
   "cell_type": "code",
   "execution_count": 4,
   "metadata": {},
   "outputs": [],
   "source": [
    "colors = [\"#c994c7\", \"#ccebc5\", \"#ff5112\", \"#7bccc4\", \"#4eb3d3\", \"#2b8cbe\", \"#08589e\", \n",
    "          \"#fff7f3\", \"#fde0dd\", \"#fcc5c0\", \"#fa9fb5\", \"#f768a1\", \"#dd3497\", \"#ae017e\", \n",
    "          \"#7a0177\"]"
   ]
  },
  {
   "cell_type": "code",
   "execution_count": 5,
   "metadata": {},
   "outputs": [],
   "source": [
    "for f in fs:\n",
    "    f[\"properties\"][\"adj\"] = []\n",
    "    f['properties']['color'] = None"
   ]
  },
  {
   "cell_type": "code",
   "execution_count": 6,
   "metadata": {},
   "outputs": [],
   "source": [
    "idx_fid = {i: f['properties']['fid'] for i, f in enumerate(fs)}\n",
    "fid_idx = {v:k for k, v in idx_fid.items()}"
   ]
  },
  {
   "cell_type": "code",
   "execution_count": 7,
   "metadata": {},
   "outputs": [
    {
     "data": {
      "text/plain": [
       "{'fid': 2, 'adj': [], 'color': None}"
      ]
     },
     "execution_count": 7,
     "metadata": {},
     "output_type": "execute_result"
    }
   ],
   "source": [
    "fs[0][\"properties\"]"
   ]
  },
  {
   "cell_type": "code",
   "execution_count": 8,
   "metadata": {
    "scrolled": true
   },
   "outputs": [
    {
     "data": {
      "text/plain": [
       "258"
      ]
     },
     "execution_count": 8,
     "metadata": {},
     "output_type": "execute_result"
    }
   ],
   "source": [
    "len(fs)"
   ]
  },
  {
   "cell_type": "code",
   "execution_count": 9,
   "metadata": {},
   "outputs": [
    {
     "data": {
      "text/plain": [
       "[[77.38401535179355, 36.46122614906691],\n",
       " [77.50080986152338, 36.446325536193314],\n",
       " [77.60730541823762, 36.42748064344141],\n",
       " [77.6787407093669, 36.42397461688292],\n",
       " [77.73450844431295, 36.41016963730885],\n",
       " [77.79301526250781, 36.402609767542096],\n",
       " [77.85283684066209, 36.39110561789704],\n",
       " [77.95900370738646, 36.368097318606935],\n",
       " [77.99877519615937, 36.36250958877933],\n",
       " [78.1443848616668, 36.321094650057134]]"
      ]
     },
     "execution_count": 9,
     "metadata": {},
     "output_type": "execute_result"
    }
   ],
   "source": [
    "fs[0]['geometry']['coordinates'][0][0:10]"
   ]
  },
  {
   "cell_type": "code",
   "execution_count": 10,
   "metadata": {},
   "outputs": [],
   "source": [
    "def check_geom(g1, g2, n_min_pts=2):\n",
    "    pt_set_1 = set([tuple(c) for c in g1])\n",
    "    pt_set_2 = set([tuple(c) for c in g2])\n",
    "    \n",
    "    if pt_set_1 == pt_set_2:\n",
    "        return False\n",
    "    else:\n",
    "        common_pts = pt_set_1.intersection(pt_set_2)\n",
    "        return len(common_pts) >= n_min_pts\n",
    "        \n",
    "    "
   ]
  },
  {
   "cell_type": "code",
   "execution_count": 11,
   "metadata": {},
   "outputs": [],
   "source": [
    "for f1 in fs:\n",
    "    for f2 in fs:\n",
    "        if check_geom(f1['geometry']['coordinates'][0], f2['geometry']['coordinates'][0]):\n",
    "            if f1['properties']['fid'] not in f2['properties']['adj']:\n",
    "                f2['properties']['adj'].append(f1['properties']['fid'])\n",
    "            if f2['properties']['fid'] not in f1['properties']['adj']:\n",
    "                f1['properties']['adj'].append(f2['properties']['fid'])"
   ]
  },
  {
   "cell_type": "code",
   "execution_count": 12,
   "metadata": {},
   "outputs": [
    {
     "data": {
      "text/plain": [
       "True"
      ]
     },
     "execution_count": 12,
     "metadata": {},
     "output_type": "execute_result"
    }
   ],
   "source": [
    "check_geom(fs[0]['geometry']['coordinates'][0], fs[1]['geometry']['coordinates'][0])"
   ]
  },
  {
   "cell_type": "code",
   "execution_count": 13,
   "metadata": {},
   "outputs": [
    {
     "data": {
      "text/plain": [
       "14"
      ]
     },
     "execution_count": 13,
     "metadata": {},
     "output_type": "execute_result"
    }
   ],
   "source": [
    "max([len(f['properties']['adj']) for f in fs])"
   ]
  },
  {
   "cell_type": "code",
   "execution_count": 14,
   "metadata": {},
   "outputs": [],
   "source": [
    "for f in fs:\n",
    "    adj_colors = []\n",
    "    for afid in f['properties']['adj']:\n",
    "        ac = fs[fid_idx[afid]]['properties']['color']\n",
    "        if ac is not None:\n",
    "            adj_colors.append(ac)\n",
    "            \n",
    "    avail_colors = list(set(colors) - set(adj_colors))\n",
    "    f['properties']['color'] = random.choice(avail_colors)\n",
    "    "
   ]
  },
  {
   "cell_type": "code",
   "execution_count": 15,
   "metadata": {},
   "outputs": [],
   "source": [
    "with open(\"../block_data/chn_blocks.geojson\", \"w\") as f:\n",
    "    json.dump(gj, f)"
   ]
  },
  {
   "cell_type": "code",
   "execution_count": 16,
   "metadata": {},
   "outputs": [],
   "source": [
    "from copy import deepcopy"
   ]
  },
  {
   "cell_type": "code",
   "execution_count": 17,
   "metadata": {},
   "outputs": [],
   "source": [
    "gjc = deepcopy(gj)"
   ]
  },
  {
   "cell_type": "code",
   "execution_count": 18,
   "metadata": {},
   "outputs": [],
   "source": [
    "fs = gjc['features']"
   ]
  },
  {
   "cell_type": "code",
   "execution_count": 19,
   "metadata": {},
   "outputs": [],
   "source": [
    "for f in fs:\n",
    "    new_coords = [[round(cc[0], 3), round(cc[1], 3)]\n",
    "                  for cc in f['geometry']['coordinates'][0]]\n",
    "    f['geometry']['coordinates'][0] = new_coords"
   ]
  },
  {
   "cell_type": "code",
   "execution_count": 20,
   "metadata": {},
   "outputs": [
    {
     "ename": "NameError",
     "evalue": "name 'cc' is not defined",
     "output_type": "error",
     "traceback": [
      "\u001b[0;31m-------------------------------------------------------\u001b[0m",
      "\u001b[0;31mNameError\u001b[0m             Traceback (most recent call last)",
      "\u001b[0;32m<ipython-input-20-2bd2965b6208>\u001b[0m in \u001b[0;36m<module>\u001b[0;34m\u001b[0m\n\u001b[0;32m----> 1\u001b[0;31m \u001b[0mcc\u001b[0m\u001b[0;34m\u001b[0m\u001b[0;34m\u001b[0m\u001b[0m\n\u001b[0m",
      "\u001b[0;31mNameError\u001b[0m: name 'cc' is not defined"
     ]
    }
   ],
   "source": [
    "cc"
   ]
  },
  {
   "cell_type": "code",
   "execution_count": 21,
   "metadata": {},
   "outputs": [],
   "source": [
    "with open(\"../block_data/chn_blocks_pt3.geojson\", \"w\") as f:\n",
    "    json.dump(gjc, f)"
   ]
  },
  {
   "cell_type": "code",
   "execution_count": 22,
   "metadata": {},
   "outputs": [
    {
     "data": {
      "text/plain": [
       "{'type': 'Feature',\n",
       " 'properties': {'fid': 2,\n",
       "  'adj': [3, 4, 6, 11, 31, 40, 51, 106],\n",
       "  'color': '#7a0177'},\n",
       " 'geometry': {'type': 'Polygon',\n",
       "  'coordinates': [[[77.384, 36.461],\n",
       "    [77.501, 36.446],\n",
       "    [77.607, 36.427],\n",
       "    [77.679, 36.424],\n",
       "    [77.735, 36.41],\n",
       "    [77.793, 36.403],\n",
       "    [77.853, 36.391],\n",
       "    [77.959, 36.368],\n",
       "    [77.999, 36.363],\n",
       "    [78.144, 36.321],\n",
       "    [78.191, 36.31],\n",
       "    [78.277, 36.296],\n",
       "    [78.382, 36.274],\n",
       "    [78.428, 36.263],\n",
       "    [78.623, 36.222],\n",
       "    [78.698, 36.222],\n",
       "    [79.091, 36.18],\n",
       "    [79.288, 36.142],\n",
       "    [79.64, 36.079],\n",
       "    [79.729, 36.06],\n",
       "    [79.777, 36.046],\n",
       "    [79.992, 36.007],\n",
       "    [80.252, 35.955],\n",
       "    [80.631, 35.936],\n",
       "    [80.691, 35.926],\n",
       "    [80.786, 35.891],\n",
       "    [80.822, 35.881],\n",
       "    [80.864, 35.878],\n",
       "    [81.052, 35.89],\n",
       "    [81.295, 35.911],\n",
       "    [81.508, 35.566],\n",
       "    [81.536, 35.509],\n",
       "    [81.55, 35.456],\n",
       "    [81.512, 35.331],\n",
       "    [81.474, 35.307],\n",
       "    [81.258, 35.036],\n",
       "    [81.222, 35.029],\n",
       "    [80.783, 34.935],\n",
       "    [80.233, 34.824],\n",
       "    [80.192, 34.824],\n",
       "    [80.139, 34.834],\n",
       "    [80.545, 34.561],\n",
       "    [80.376, 34.553],\n",
       "    [80.218, 34.529],\n",
       "    [79.882, 34.444],\n",
       "    [79.568, 34.398],\n",
       "    [79.493, 34.392],\n",
       "    [79.232, 34.357],\n",
       "    [78.74, 34.311],\n",
       "    [78.556, 34.287],\n",
       "    [78.472, 34.285],\n",
       "    [78.283, 34.279],\n",
       "    [78.086, 34.301],\n",
       "    [77.838, 34.302],\n",
       "    [77.646, 34.576],\n",
       "    [77.595, 34.667],\n",
       "    [77.51, 34.835],\n",
       "    [77.208, 35.211],\n",
       "    [77.159, 35.343],\n",
       "    [76.888, 35.622],\n",
       "    [76.788, 35.733],\n",
       "    [76.722, 35.843],\n",
       "    [76.557, 35.998],\n",
       "    [76.408, 36.158],\n",
       "    [76.288, 36.252],\n",
       "    [76.198, 36.308],\n",
       "    [75.893, 36.639],\n",
       "    [75.848, 36.704],\n",
       "    [75.745, 36.789],\n",
       "    [75.485, 37.047],\n",
       "    [75.453, 37.097],\n",
       "    [75.428, 37.152],\n",
       "    [75.394, 37.307],\n",
       "    [75.293, 37.509],\n",
       "    [75.266, 37.547],\n",
       "    [75.258, 37.587],\n",
       "    [75.236, 37.649],\n",
       "    [75.195, 37.747],\n",
       "    [75.214, 37.785],\n",
       "    [75.278, 37.777],\n",
       "    [75.422, 37.758],\n",
       "    [75.509, 37.721],\n",
       "    [75.662, 37.577],\n",
       "    [76.052, 37.286],\n",
       "    [76.121, 37.208],\n",
       "    [76.14, 37.167],\n",
       "    [76.356, 36.955],\n",
       "    [76.419, 36.887],\n",
       "    [76.567, 36.775],\n",
       "    [76.757, 36.676],\n",
       "    [77.006, 36.578],\n",
       "    [77.225, 36.495],\n",
       "    [77.384, 36.461]]]}}"
      ]
     },
     "execution_count": 22,
     "metadata": {},
     "output_type": "execute_result"
    }
   ],
   "source": [
    "fs[0]"
   ]
  },
  {
   "cell_type": "code",
   "execution_count": null,
   "metadata": {},
   "outputs": [],
   "source": []
  },
  {
   "cell_type": "code",
   "execution_count": null,
   "metadata": {},
   "outputs": [],
   "source": []
  }
 ],
 "metadata": {
  "kernelspec": {
   "display_name": "Python 3",
   "language": "python",
   "name": "python3"
  },
  "language_info": {
   "codemirror_mode": {
    "name": "ipython",
    "version": 3
   },
   "file_extension": ".py",
   "mimetype": "text/x-python",
   "name": "python",
   "nbconvert_exporter": "python",
   "pygments_lexer": "ipython3",
   "version": "3.7.2"
  }
 },
 "nbformat": 4,
 "nbformat_minor": 2
}
