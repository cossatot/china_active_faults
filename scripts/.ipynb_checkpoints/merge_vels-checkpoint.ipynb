{
 "cells": [
  {
   "cell_type": "code",
   "execution_count": 2,
   "metadata": {},
   "outputs": [],
   "source": [
    "import numpy as np\n",
    "import geopandas as gpd\n",
    "import pandas as pd"
   ]
  },
  {
   "cell_type": "code",
   "execution_count": 3,
   "metadata": {},
   "outputs": [],
   "source": [
    "shen_df = pd.read_csv('../geod/china_shen_2020.csv')"
   ]
  },
  {
   "cell_type": "code",
   "execution_count": 4,
   "metadata": {},
   "outputs": [],
   "source": [
    "gsrm_df = pd.read_csv('../geod/e_asia_gsrm.csv')"
   ]
  },
  {
   "cell_type": "code",
   "execution_count": 5,
   "metadata": {},
   "outputs": [
    {
     "data": {
      "text/html": [
       "<div>\n",
       "<style scoped>\n",
       "    .dataframe tbody tr th:only-of-type {\n",
       "        vertical-align: middle;\n",
       "    }\n",
       "\n",
       "    .dataframe tbody tr th {\n",
       "        vertical-align: top;\n",
       "    }\n",
       "\n",
       "    .dataframe thead th {\n",
       "        text-align: right;\n",
       "    }\n",
       "</style>\n",
       "<table border=\"1\" class=\"dataframe\">\n",
       "  <thead>\n",
       "    <tr style=\"text-align: right;\">\n",
       "      <th></th>\n",
       "      <th>site</th>\n",
       "      <th>lon</th>\n",
       "      <th>lat</th>\n",
       "      <th>ve_itrf</th>\n",
       "      <th>ve_eur</th>\n",
       "      <th>ve_err</th>\n",
       "      <th>vn_itrf</th>\n",
       "      <th>vn_eur</th>\n",
       "      <th>vn_err</th>\n",
       "      <th>corr</th>\n",
       "    </tr>\n",
       "  </thead>\n",
       "  <tbody>\n",
       "    <tr>\n",
       "      <td>2398</td>\n",
       "      <td>YNTH_GPS</td>\n",
       "      <td>102.751</td>\n",
       "      <td>24.118</td>\n",
       "      <td>33.4</td>\n",
       "      <td>6.5</td>\n",
       "      <td>0.3</td>\n",
       "      <td>-13.6</td>\n",
       "      <td>-7.6</td>\n",
       "      <td>0.3</td>\n",
       "      <td>0.0</td>\n",
       "    </tr>\n",
       "    <tr>\n",
       "      <td>2399</td>\n",
       "      <td>YNYA_GPS</td>\n",
       "      <td>101.327</td>\n",
       "      <td>25.724</td>\n",
       "      <td>33.0</td>\n",
       "      <td>5.9</td>\n",
       "      <td>0.3</td>\n",
       "      <td>-16.6</td>\n",
       "      <td>-10.9</td>\n",
       "      <td>0.3</td>\n",
       "      <td>0.0</td>\n",
       "    </tr>\n",
       "    <tr>\n",
       "      <td>2400</td>\n",
       "      <td>YNYL_GPS</td>\n",
       "      <td>99.372</td>\n",
       "      <td>25.885</td>\n",
       "      <td>27.9</td>\n",
       "      <td>0.7</td>\n",
       "      <td>0.3</td>\n",
       "      <td>-16.9</td>\n",
       "      <td>-11.7</td>\n",
       "      <td>0.4</td>\n",
       "      <td>0.0</td>\n",
       "    </tr>\n",
       "    <tr>\n",
       "      <td>2401</td>\n",
       "      <td>YNZD_GPS</td>\n",
       "      <td>99.698</td>\n",
       "      <td>27.823</td>\n",
       "      <td>34.4</td>\n",
       "      <td>7.1</td>\n",
       "      <td>0.3</td>\n",
       "      <td>-20.4</td>\n",
       "      <td>-15.1</td>\n",
       "      <td>0.3</td>\n",
       "      <td>0.0</td>\n",
       "    </tr>\n",
       "    <tr>\n",
       "      <td>2402</td>\n",
       "      <td>ZJWZ_GPS</td>\n",
       "      <td>120.763</td>\n",
       "      <td>27.934</td>\n",
       "      <td>32.4</td>\n",
       "      <td>6.5</td>\n",
       "      <td>0.3</td>\n",
       "      <td>-12.2</td>\n",
       "      <td>-1.9</td>\n",
       "      <td>0.3</td>\n",
       "      <td>0.0</td>\n",
       "    </tr>\n",
       "  </tbody>\n",
       "</table>\n",
       "</div>"
      ],
      "text/plain": [
       "          site      lon     lat  ve_itrf  ve_eur  ve_err  vn_itrf  vn_eur  \\\n",
       "2398  YNTH_GPS  102.751  24.118     33.4     6.5     0.3    -13.6    -7.6   \n",
       "2399  YNYA_GPS  101.327  25.724     33.0     5.9     0.3    -16.6   -10.9   \n",
       "2400  YNYL_GPS   99.372  25.885     27.9     0.7     0.3    -16.9   -11.7   \n",
       "2401  YNZD_GPS   99.698  27.823     34.4     7.1     0.3    -20.4   -15.1   \n",
       "2402  ZJWZ_GPS  120.763  27.934     32.4     6.5     0.3    -12.2    -1.9   \n",
       "\n",
       "      vn_err  corr  \n",
       "2398     0.3   0.0  \n",
       "2399     0.3   0.0  \n",
       "2400     0.4   0.0  \n",
       "2401     0.3   0.0  \n",
       "2402     0.3   0.0  "
      ]
     },
     "execution_count": 5,
     "metadata": {},
     "output_type": "execute_result"
    }
   ],
   "source": [
    "shen_df.tail()"
   ]
  },
  {
   "cell_type": "code",
   "execution_count": 6,
   "metadata": {},
   "outputs": [
    {
     "data": {
      "text/html": [
       "<div>\n",
       "<style scoped>\n",
       "    .dataframe tbody tr th:only-of-type {\n",
       "        vertical-align: middle;\n",
       "    }\n",
       "\n",
       "    .dataframe tbody tr th {\n",
       "        vertical-align: top;\n",
       "    }\n",
       "\n",
       "    .dataframe thead th {\n",
       "        text-align: right;\n",
       "    }\n",
       "</style>\n",
       "<table border=\"1\" class=\"dataframe\">\n",
       "  <thead>\n",
       "    <tr style=\"text-align: right;\">\n",
       "      <th></th>\n",
       "      <th>lon</th>\n",
       "      <th>lat</th>\n",
       "      <th>e_vel</th>\n",
       "      <th>n_vel</th>\n",
       "      <th>e_err</th>\n",
       "      <th>n_err</th>\n",
       "      <th>station</th>\n",
       "      <th>ref</th>\n",
       "    </tr>\n",
       "  </thead>\n",
       "  <tbody>\n",
       "    <tr>\n",
       "      <td>22506</td>\n",
       "      <td>-84.297</td>\n",
       "      <td>33.380</td>\n",
       "      <td>-24.316</td>\n",
       "      <td>-2.801</td>\n",
       "      <td>0.300</td>\n",
       "      <td>0.304</td>\n",
       "      <td>ZTL4</td>\n",
       "      <td>UNR</td>\n",
       "    </tr>\n",
       "    <tr>\n",
       "      <td>22507</td>\n",
       "      <td>-117.490</td>\n",
       "      <td>37.558</td>\n",
       "      <td>-25.543</td>\n",
       "      <td>-3.863</td>\n",
       "      <td>0.338</td>\n",
       "      <td>0.117</td>\n",
       "      <td>ZUMA</td>\n",
       "      <td>UNR</td>\n",
       "    </tr>\n",
       "    <tr>\n",
       "      <td>22508</td>\n",
       "      <td>-92.681</td>\n",
       "      <td>44.291</td>\n",
       "      <td>-21.140</td>\n",
       "      <td>-4.027</td>\n",
       "      <td>0.363</td>\n",
       "      <td>0.413</td>\n",
       "      <td>ZUMB</td>\n",
       "      <td>UNR</td>\n",
       "    </tr>\n",
       "    <tr>\n",
       "      <td>22509</td>\n",
       "      <td>36.758</td>\n",
       "      <td>55.699</td>\n",
       "      <td>-0.066</td>\n",
       "      <td>0.493</td>\n",
       "      <td>0.334</td>\n",
       "      <td>0.454</td>\n",
       "      <td>ZWE0</td>\n",
       "      <td>UNR</td>\n",
       "    </tr>\n",
       "    <tr>\n",
       "      <td>22510</td>\n",
       "      <td>19.206</td>\n",
       "      <td>49.687</td>\n",
       "      <td>0.006</td>\n",
       "      <td>0.974</td>\n",
       "      <td>0.319</td>\n",
       "      <td>0.363</td>\n",
       "      <td>ZYWI</td>\n",
       "      <td>UNR</td>\n",
       "    </tr>\n",
       "  </tbody>\n",
       "</table>\n",
       "</div>"
      ],
      "text/plain": [
       "           lon     lat   e_vel  n_vel  e_err  n_err station  ref\n",
       "22506  -84.297  33.380 -24.316 -2.801  0.300  0.304    ZTL4  UNR\n",
       "22507 -117.490  37.558 -25.543 -3.863  0.338  0.117    ZUMA  UNR\n",
       "22508  -92.681  44.291 -21.140 -4.027  0.363  0.413    ZUMB  UNR\n",
       "22509   36.758  55.699  -0.066  0.493  0.334  0.454    ZWE0  UNR\n",
       "22510   19.206  49.687   0.006  0.974  0.319  0.363    ZYWI  UNR"
      ]
     },
     "execution_count": 6,
     "metadata": {},
     "output_type": "execute_result"
    }
   ],
   "source": [
    "gsrm_df.tail()"
   ]
  },
  {
   "cell_type": "code",
   "execution_count": 8,
   "metadata": {},
   "outputs": [],
   "source": [
    "EARTH_RADIUS = 6371.0\n",
    "\n",
    "def _prepare_coords(lons1, lats1, lons2, lats2):\n",
    "    \"\"\"\n",
    "    Convert two pairs of spherical coordinates in decimal degrees\n",
    "    to np arrays of radians. Makes sure that respective coordinates\n",
    "    in pairs have the same shape.\n",
    "    \"\"\"\n",
    "    lons1 = np.radians(lons1)\n",
    "    lats1 = np.radians(lats1)\n",
    "    assert lons1.shape == lats1.shape\n",
    "    lons2 = np.radians(lons2)\n",
    "    lats2 = np.radians(lats2)\n",
    "    assert lons2.shape == lats2.shape\n",
    "    return lons1, lats1, lons2, lats2\n",
    "\n",
    "\n",
    "def geodetic_distance(lons1, lats1, lons2, lats2, diameter=2*EARTH_RADIUS):\n",
    "    \"\"\"\n",
    "    Calculate the geodetic distance between two points or two collections\n",
    "    of points.\n",
    "    Parameters are coordinates in decimal degrees. They could be scalar\n",
    "    float numbers or np arrays, in which case they should \"broadcast\n",
    "    together\".\n",
    "    Implements http://williams.best.vwh.net/avform.htm#Dist\n",
    "    :returns:\n",
    "        Distance in km, floating point scalar or np array of such.\n",
    "    \"\"\"\n",
    "    #lons1, lats1, lons2, lats2 = _prepare_coords(lons1, lats1, lons2, lats2)\n",
    "    distance = np.arcsin(np.sqrt(\n",
    "        np.sin((lats1 - lats2) / 2.0) ** 2.0\n",
    "        + np.cos(lats1) * np.cos(lats2)\n",
    "        * np.sin((lons1 - lons2) / 2.0) ** 2.0\n",
    "    ))\n",
    "    return diameter * distance"
   ]
  },
  {
   "cell_type": "code",
   "execution_count": 14,
   "metadata": {},
   "outputs": [],
   "source": [
    "def get_min_distance(lons1, lats1, lons2, lats2):\n",
    "    return np.array([np.min(geodetic_distance(lon, lats1[i], lons2, lats2))\n",
    "                    for i, lon in enumerate(lons1)])\n",
    "    "
   ]
  },
  {
   "cell_type": "code",
   "execution_count": 17,
   "metadata": {},
   "outputs": [
    {
     "data": {
      "text/plain": [
       "array([2584.25874196, 1523.23610748, 1556.69230244, 1591.20237779,\n",
       "       1627.99538891, 1513.95279224, 1528.54473195, 1557.92133515,\n",
       "       1620.21849907, 1483.72948383])"
      ]
     },
     "execution_count": 17,
     "metadata": {},
     "output_type": "execute_result"
    }
   ],
   "source": [
    "get_min_distance(shen_df.lon[:10], shen_df.lat[:10], gsrm_df.lon[:100], gsrm_df.lat[:100])"
   ]
  },
  {
   "cell_type": "code",
   "execution_count": 19,
   "metadata": {},
   "outputs": [],
   "source": [
    "dists = get_min_distance(gsrm_df.lon, gsrm_df.lat, shen_df.lon, shen_df.lat)"
   ]
  },
  {
   "cell_type": "code",
   "execution_count": 20,
   "metadata": {},
   "outputs": [],
   "source": [
    "gsrm_trim = gsrm_df.loc[dists > 5.]"
   ]
  },
  {
   "cell_type": "code",
   "execution_count": 21,
   "metadata": {},
   "outputs": [
    {
     "data": {
      "text/plain": [
       "(20484, 8)"
      ]
     },
     "execution_count": 21,
     "metadata": {},
     "output_type": "execute_result"
    }
   ],
   "source": [
    "gsrm_trim.shape"
   ]
  },
  {
   "cell_type": "code",
   "execution_count": 22,
   "metadata": {},
   "outputs": [
    {
     "data": {
      "text/plain": [
       "(22511, 8)"
      ]
     },
     "execution_count": 22,
     "metadata": {},
     "output_type": "execute_result"
    }
   ],
   "source": [
    "gsrm_df.shape"
   ]
  },
  {
   "cell_type": "code",
   "execution_count": 23,
   "metadata": {},
   "outputs": [
    {
     "data": {
      "text/plain": [
       "Index(['site', 'lon', 'lat', 've_itrf', 've_eur', 've_err', 'vn_itrf',\n",
       "       'vn_eur', 'vn_err', 'corr'],\n",
       "      dtype='object')"
      ]
     },
     "execution_count": 23,
     "metadata": {},
     "output_type": "execute_result"
    }
   ],
   "source": [
    "shen_df.columns"
   ]
  },
  {
   "cell_type": "code",
   "execution_count": 24,
   "metadata": {},
   "outputs": [
    {
     "data": {
      "text/plain": [
       "Index(['lon', 'lat', 'e_vel', 'n_vel', 'e_err', 'n_err', 'station', 'ref'], dtype='object')"
      ]
     },
     "execution_count": 24,
     "metadata": {},
     "output_type": "execute_result"
    }
   ],
   "source": [
    "gsrm_df.columns"
   ]
  },
  {
   "cell_type": "code",
   "execution_count": 25,
   "metadata": {},
   "outputs": [],
   "source": [
    "shen_newcols = shen_df[['lon', 'lat', 've_eur', 'vn_eur', 've_err', 'vn_err', 'site']]"
   ]
  },
  {
   "cell_type": "code",
   "execution_count": 26,
   "metadata": {},
   "outputs": [
    {
     "name": "stderr",
     "output_type": "stream",
     "text": [
      "/Users/itchy/src/miniconda/lib/python3.6/site-packages/ipykernel_launcher.py:1: SettingWithCopyWarning: \n",
      "A value is trying to be set on a copy of a slice from a DataFrame.\n",
      "Try using .loc[row_indexer,col_indexer] = value instead\n",
      "\n",
      "See the caveats in the documentation: http://pandas.pydata.org/pandas-docs/stable/user_guide/indexing.html#returning-a-view-versus-a-copy\n",
      "  \"\"\"Entry point for launching an IPython kernel.\n"
     ]
    }
   ],
   "source": [
    "shen_newcols['ref'] = 'wang_shen_2020'"
   ]
  },
  {
   "cell_type": "code",
   "execution_count": 27,
   "metadata": {},
   "outputs": [],
   "source": [
    "shen_newcols.columns = gsrm_df.columns"
   ]
  },
  {
   "cell_type": "code",
   "execution_count": 28,
   "metadata": {},
   "outputs": [],
   "source": [
    "all_vels = pd.concat((shen_newcols, gsrm_trim), axis=0)"
   ]
  },
  {
   "cell_type": "code",
   "execution_count": 29,
   "metadata": {},
   "outputs": [
    {
     "data": {
      "text/html": [
       "<div>\n",
       "<style scoped>\n",
       "    .dataframe tbody tr th:only-of-type {\n",
       "        vertical-align: middle;\n",
       "    }\n",
       "\n",
       "    .dataframe tbody tr th {\n",
       "        vertical-align: top;\n",
       "    }\n",
       "\n",
       "    .dataframe thead th {\n",
       "        text-align: right;\n",
       "    }\n",
       "</style>\n",
       "<table border=\"1\" class=\"dataframe\">\n",
       "  <thead>\n",
       "    <tr style=\"text-align: right;\">\n",
       "      <th></th>\n",
       "      <th>lon</th>\n",
       "      <th>lat</th>\n",
       "      <th>e_vel</th>\n",
       "      <th>n_vel</th>\n",
       "      <th>e_err</th>\n",
       "      <th>n_err</th>\n",
       "      <th>station</th>\n",
       "      <th>ref</th>\n",
       "    </tr>\n",
       "  </thead>\n",
       "  <tbody>\n",
       "    <tr>\n",
       "      <td>22505</td>\n",
       "      <td>-65.993</td>\n",
       "      <td>18.431</td>\n",
       "      <td>-9.327</td>\n",
       "      <td>5.104</td>\n",
       "      <td>0.305</td>\n",
       "      <td>0.354</td>\n",
       "      <td>ZSU1</td>\n",
       "      <td>UNR</td>\n",
       "    </tr>\n",
       "    <tr>\n",
       "      <td>22506</td>\n",
       "      <td>-84.297</td>\n",
       "      <td>33.380</td>\n",
       "      <td>-24.316</td>\n",
       "      <td>-2.801</td>\n",
       "      <td>0.300</td>\n",
       "      <td>0.304</td>\n",
       "      <td>ZTL4</td>\n",
       "      <td>UNR</td>\n",
       "    </tr>\n",
       "    <tr>\n",
       "      <td>22507</td>\n",
       "      <td>-117.490</td>\n",
       "      <td>37.558</td>\n",
       "      <td>-25.543</td>\n",
       "      <td>-3.863</td>\n",
       "      <td>0.338</td>\n",
       "      <td>0.117</td>\n",
       "      <td>ZUMA</td>\n",
       "      <td>UNR</td>\n",
       "    </tr>\n",
       "    <tr>\n",
       "      <td>22508</td>\n",
       "      <td>-92.681</td>\n",
       "      <td>44.291</td>\n",
       "      <td>-21.140</td>\n",
       "      <td>-4.027</td>\n",
       "      <td>0.363</td>\n",
       "      <td>0.413</td>\n",
       "      <td>ZUMB</td>\n",
       "      <td>UNR</td>\n",
       "    </tr>\n",
       "    <tr>\n",
       "      <td>22510</td>\n",
       "      <td>19.206</td>\n",
       "      <td>49.687</td>\n",
       "      <td>0.006</td>\n",
       "      <td>0.974</td>\n",
       "      <td>0.319</td>\n",
       "      <td>0.363</td>\n",
       "      <td>ZYWI</td>\n",
       "      <td>UNR</td>\n",
       "    </tr>\n",
       "  </tbody>\n",
       "</table>\n",
       "</div>"
      ],
      "text/plain": [
       "           lon     lat   e_vel  n_vel  e_err  n_err station  ref\n",
       "22505  -65.993  18.431  -9.327  5.104  0.305  0.354    ZSU1  UNR\n",
       "22506  -84.297  33.380 -24.316 -2.801  0.300  0.304    ZTL4  UNR\n",
       "22507 -117.490  37.558 -25.543 -3.863  0.338  0.117    ZUMA  UNR\n",
       "22508  -92.681  44.291 -21.140 -4.027  0.363  0.413    ZUMB  UNR\n",
       "22510   19.206  49.687   0.006  0.974  0.319  0.363    ZYWI  UNR"
      ]
     },
     "execution_count": 29,
     "metadata": {},
     "output_type": "execute_result"
    }
   ],
   "source": [
    "all_vels.tail()"
   ]
  },
  {
   "cell_type": "code",
   "execution_count": 30,
   "metadata": {},
   "outputs": [],
   "source": [
    "all_vels.to_csv('../geod/e_asia_vels_eur.csv', index=False)"
   ]
  },
  {
   "cell_type": "code",
   "execution_count": null,
   "metadata": {},
   "outputs": [],
   "source": []
  }
 ],
 "metadata": {
  "kernelspec": {
   "display_name": "Python 3",
   "language": "python",
   "name": "python3"
  },
  "language_info": {
   "codemirror_mode": {
    "name": "ipython",
    "version": 3
   },
   "file_extension": ".py",
   "mimetype": "text/x-python",
   "name": "python",
   "nbconvert_exporter": "python",
   "pygments_lexer": "ipython3",
   "version": "3.6.9"
  }
 },
 "nbformat": 4,
 "nbformat_minor": 2
}
