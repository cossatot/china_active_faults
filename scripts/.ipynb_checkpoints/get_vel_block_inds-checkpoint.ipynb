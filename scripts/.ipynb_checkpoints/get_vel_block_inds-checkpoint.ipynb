{
 "cells": [
  {
   "cell_type": "code",
   "execution_count": 20,
   "metadata": {},
   "outputs": [],
   "source": [
    "import json\n",
    "import numpy as np\n",
    "#import matplotlib\n",
    "import pandas as pd\n",
    "import geopandas as gpd\n",
    "import sqlite3\n",
    "from shapely.geometry import Point"
   ]
  },
  {
   "cell_type": "code",
   "execution_count": 2,
   "metadata": {},
   "outputs": [],
   "source": [
    "def ray_tracing_numpy(x,y,poly):\n",
    "    n = len(poly)\n",
    "    inside = np.zeros(len(x),np.bool_)\n",
    "    p2x = 0.0\n",
    "    p2y = 0.0\n",
    "    xints = 0.0\n",
    "    p1x,p1y = poly[0]\n",
    "    for i in range(n+1):\n",
    "        p2x,p2y = poly[i % n]\n",
    "        idx = np.nonzero((y > min(p1y,p2y)) & (y <= max(p1y,p2y)) & (x <= max(p1x,p2x)))[0]\n",
    "        if p1y != p2y:\n",
    "            xints = (y[idx]-p1y)*(p2x-p1x)/(p2y-p1y)+p1x\n",
    "        if p1x == p2x:\n",
    "            inside[idx] = ~inside[idx]\n",
    "        else:\n",
    "            idxx = idx[x[idx] <= xints]\n",
    "            inside[idxx] = ~inside[idxx]    \n",
    "\n",
    "        p1x,p1y = p2x,p2y\n",
    "    return inside"
   ]
  },
  {
   "cell_type": "code",
   "execution_count": 3,
   "metadata": {},
   "outputs": [],
   "source": [
    "vels = pd.read_csv('../geod/e_asia_vels_eur.csv')"
   ]
  },
  {
   "cell_type": "code",
   "execution_count": 8,
   "metadata": {},
   "outputs": [],
   "source": [
    "blocks = gpd.read_file('../block_data/chn_faults_blocks.gpkg', layer='blocks')"
   ]
  },
  {
   "cell_type": "code",
   "execution_count": 19,
   "metadata": {},
   "outputs": [
    {
     "data": {
      "text/plain": [
       "array('d', [75.21447989158972, 75.19515914599431, 75.2363549580566, 75.2579754551673, 75.2662573987805, 75.29303572075223, 75.39354181542902, 75.42801774325423, 75.45314426692343, 75.48528284370961, 75.7452832728143, 75.84757225475386, 75.89256626225452, 76.13565077031001, 76.24901229570128, 76.28688997930126, 76.7103803295863, 76.98955625990814, 77.0230465682215, 77.15934852194844, 77.32770034062042, 77.38401535179355, 77.22492939670192, 77.00585127551221, 76.75692465592503, 76.56711116366468, 76.41898154156834, 76.35565393685553, 76.1398872190683, 76.12060407299658, 76.05165221734622, 75.68919600916044, 75.55204343276094, 75.42235387517982, 75.27832861138924, 75.21447989158972])"
      ]
     },
     "execution_count": 19,
     "metadata": {},
     "output_type": "execute_result"
    }
   ],
   "source": [
    "blocks.iloc[0].geometry.exterior.xy[0]"
   ]
  },
  {
   "cell_type": "code",
   "execution_count": 21,
   "metadata": {},
   "outputs": [],
   "source": [
    "def _get_pt_geom(row):\n",
    "    return Point(row.lon, row.lat)"
   ]
  },
  {
   "cell_type": "code",
   "execution_count": 23,
   "metadata": {},
   "outputs": [],
   "source": [
    "vels['geometry'] = vels.apply(_get_pt_geom, axis=1)"
   ]
  },
  {
   "cell_type": "code",
   "execution_count": 24,
   "metadata": {},
   "outputs": [],
   "source": [
    "crs = {'init': \"epsg:4326\"}"
   ]
  },
  {
   "cell_type": "code",
   "execution_count": 25,
   "metadata": {},
   "outputs": [],
   "source": [
    "vels_gdf = gpd.GeoDataFrame(vels, crs=crs)"
   ]
  },
  {
   "cell_type": "code",
   "execution_count": 26,
   "metadata": {},
   "outputs": [
    {
     "data": {
      "text/html": [
       "<div>\n",
       "<style scoped>\n",
       "    .dataframe tbody tr th:only-of-type {\n",
       "        vertical-align: middle;\n",
       "    }\n",
       "\n",
       "    .dataframe tbody tr th {\n",
       "        vertical-align: top;\n",
       "    }\n",
       "\n",
       "    .dataframe thead th {\n",
       "        text-align: right;\n",
       "    }\n",
       "</style>\n",
       "<table border=\"1\" class=\"dataframe\">\n",
       "  <thead>\n",
       "    <tr style=\"text-align: right;\">\n",
       "      <th></th>\n",
       "      <th>lon</th>\n",
       "      <th>lat</th>\n",
       "      <th>e_vel</th>\n",
       "      <th>n_vel</th>\n",
       "      <th>e_err</th>\n",
       "      <th>n_err</th>\n",
       "      <th>station</th>\n",
       "      <th>ref</th>\n",
       "      <th>geometry</th>\n",
       "    </tr>\n",
       "  </thead>\n",
       "  <tbody>\n",
       "    <tr>\n",
       "      <td>0</td>\n",
       "      <td>105.815</td>\n",
       "      <td>33.340</td>\n",
       "      <td>7.300</td>\n",
       "      <td>-1.800</td>\n",
       "      <td>0.800</td>\n",
       "      <td>0.700</td>\n",
       "      <td>1375_GPS</td>\n",
       "      <td>wang_shen_2020</td>\n",
       "      <td>POINT (105.815 33.34)</td>\n",
       "    </tr>\n",
       "    <tr>\n",
       "      <td>1</td>\n",
       "      <td>112.614</td>\n",
       "      <td>41.271</td>\n",
       "      <td>3.000</td>\n",
       "      <td>-0.900</td>\n",
       "      <td>0.300</td>\n",
       "      <td>0.300</td>\n",
       "      <td>A001_GPS</td>\n",
       "      <td>wang_shen_2020</td>\n",
       "      <td>POINT (112.614 41.271)</td>\n",
       "    </tr>\n",
       "    <tr>\n",
       "      <td>2</td>\n",
       "      <td>112.564</td>\n",
       "      <td>40.892</td>\n",
       "      <td>3.200</td>\n",
       "      <td>-1.300</td>\n",
       "      <td>0.200</td>\n",
       "      <td>0.200</td>\n",
       "      <td>A002_GPS</td>\n",
       "      <td>wang_shen_2020</td>\n",
       "      <td>POINT (112.564 40.892)</td>\n",
       "    </tr>\n",
       "    <tr>\n",
       "      <td>3</td>\n",
       "      <td>112.480</td>\n",
       "      <td>40.529</td>\n",
       "      <td>3.500</td>\n",
       "      <td>-1.300</td>\n",
       "      <td>0.200</td>\n",
       "      <td>0.200</td>\n",
       "      <td>A003_GPS</td>\n",
       "      <td>wang_shen_2020</td>\n",
       "      <td>POINT (112.48 40.529)</td>\n",
       "    </tr>\n",
       "    <tr>\n",
       "      <td>4</td>\n",
       "      <td>112.354</td>\n",
       "      <td>40.171</td>\n",
       "      <td>4.200</td>\n",
       "      <td>-1.700</td>\n",
       "      <td>0.200</td>\n",
       "      <td>0.200</td>\n",
       "      <td>A004_GPS</td>\n",
       "      <td>wang_shen_2020</td>\n",
       "      <td>POINT (112.354 40.171)</td>\n",
       "    </tr>\n",
       "    <tr>\n",
       "      <td>...</td>\n",
       "      <td>...</td>\n",
       "      <td>...</td>\n",
       "      <td>...</td>\n",
       "      <td>...</td>\n",
       "      <td>...</td>\n",
       "      <td>...</td>\n",
       "      <td>...</td>\n",
       "      <td>...</td>\n",
       "      <td>...</td>\n",
       "    </tr>\n",
       "    <tr>\n",
       "      <td>22869</td>\n",
       "      <td>-65.993</td>\n",
       "      <td>18.431</td>\n",
       "      <td>-9.327</td>\n",
       "      <td>5.104</td>\n",
       "      <td>0.305</td>\n",
       "      <td>0.354</td>\n",
       "      <td>ZSU1</td>\n",
       "      <td>UNR</td>\n",
       "      <td>POINT (-65.99299999999999 18.431)</td>\n",
       "    </tr>\n",
       "    <tr>\n",
       "      <td>22870</td>\n",
       "      <td>-84.297</td>\n",
       "      <td>33.380</td>\n",
       "      <td>-24.316</td>\n",
       "      <td>-2.801</td>\n",
       "      <td>0.300</td>\n",
       "      <td>0.304</td>\n",
       "      <td>ZTL4</td>\n",
       "      <td>UNR</td>\n",
       "      <td>POINT (-84.29700000000001 33.38)</td>\n",
       "    </tr>\n",
       "    <tr>\n",
       "      <td>22871</td>\n",
       "      <td>-117.490</td>\n",
       "      <td>37.558</td>\n",
       "      <td>-25.543</td>\n",
       "      <td>-3.863</td>\n",
       "      <td>0.338</td>\n",
       "      <td>0.117</td>\n",
       "      <td>ZUMA</td>\n",
       "      <td>UNR</td>\n",
       "      <td>POINT (-117.49 37.558)</td>\n",
       "    </tr>\n",
       "    <tr>\n",
       "      <td>22872</td>\n",
       "      <td>-92.681</td>\n",
       "      <td>44.291</td>\n",
       "      <td>-21.140</td>\n",
       "      <td>-4.027</td>\n",
       "      <td>0.363</td>\n",
       "      <td>0.413</td>\n",
       "      <td>ZUMB</td>\n",
       "      <td>UNR</td>\n",
       "      <td>POINT (-92.681 44.291)</td>\n",
       "    </tr>\n",
       "    <tr>\n",
       "      <td>22873</td>\n",
       "      <td>19.206</td>\n",
       "      <td>49.687</td>\n",
       "      <td>0.006</td>\n",
       "      <td>0.974</td>\n",
       "      <td>0.319</td>\n",
       "      <td>0.363</td>\n",
       "      <td>ZYWI</td>\n",
       "      <td>UNR</td>\n",
       "      <td>POINT (19.206 49.687)</td>\n",
       "    </tr>\n",
       "  </tbody>\n",
       "</table>\n",
       "<p>22874 rows × 9 columns</p>\n",
       "</div>"
      ],
      "text/plain": [
       "           lon     lat   e_vel  n_vel  e_err  n_err   station             ref  \\\n",
       "0      105.815  33.340   7.300 -1.800  0.800  0.700  1375_GPS  wang_shen_2020   \n",
       "1      112.614  41.271   3.000 -0.900  0.300  0.300  A001_GPS  wang_shen_2020   \n",
       "2      112.564  40.892   3.200 -1.300  0.200  0.200  A002_GPS  wang_shen_2020   \n",
       "3      112.480  40.529   3.500 -1.300  0.200  0.200  A003_GPS  wang_shen_2020   \n",
       "4      112.354  40.171   4.200 -1.700  0.200  0.200  A004_GPS  wang_shen_2020   \n",
       "...        ...     ...     ...    ...    ...    ...       ...             ...   \n",
       "22869  -65.993  18.431  -9.327  5.104  0.305  0.354      ZSU1             UNR   \n",
       "22870  -84.297  33.380 -24.316 -2.801  0.300  0.304      ZTL4             UNR   \n",
       "22871 -117.490  37.558 -25.543 -3.863  0.338  0.117      ZUMA             UNR   \n",
       "22872  -92.681  44.291 -21.140 -4.027  0.363  0.413      ZUMB             UNR   \n",
       "22873   19.206  49.687   0.006  0.974  0.319  0.363      ZYWI             UNR   \n",
       "\n",
       "                                geometry  \n",
       "0                  POINT (105.815 33.34)  \n",
       "1                 POINT (112.614 41.271)  \n",
       "2                 POINT (112.564 40.892)  \n",
       "3                  POINT (112.48 40.529)  \n",
       "4                 POINT (112.354 40.171)  \n",
       "...                                  ...  \n",
       "22869  POINT (-65.99299999999999 18.431)  \n",
       "22870   POINT (-84.29700000000001 33.38)  \n",
       "22871             POINT (-117.49 37.558)  \n",
       "22872             POINT (-92.681 44.291)  \n",
       "22873              POINT (19.206 49.687)  \n",
       "\n",
       "[22874 rows x 9 columns]"
      ]
     },
     "execution_count": 26,
     "metadata": {},
     "output_type": "execute_result"
    }
   ],
   "source": [
    "vels_gdf"
   ]
  },
  {
   "cell_type": "code",
   "execution_count": 29,
   "metadata": {},
   "outputs": [
    {
     "data": {
      "text/plain": [
       "136      18\n",
       "1733     18\n",
       "2269     18\n",
       "2277     18\n",
       "2285     18\n",
       "         ..\n",
       "12926    29\n",
       "12927    29\n",
       "12928    29\n",
       "7990      2\n",
       "7992      2\n",
       "Name: index_right, Length: 768, dtype: int64"
      ]
     },
     "execution_count": 29,
     "metadata": {},
     "output_type": "execute_result"
    }
   ],
   "source": [
    "gpd.sjoin(vels_gdf, blocks, how='inner').index_right"
   ]
  },
  {
   "cell_type": "code",
   "execution_count": null,
   "metadata": {},
   "outputs": [],
   "source": []
  }
 ],
 "metadata": {
  "kernelspec": {
   "display_name": "Python 3",
   "language": "python",
   "name": "python3"
  },
  "language_info": {
   "codemirror_mode": {
    "name": "ipython",
    "version": 3
   },
   "file_extension": ".py",
   "mimetype": "text/x-python",
   "name": "python",
   "nbconvert_exporter": "python",
   "pygments_lexer": "ipython3",
   "version": "3.6.9"
  }
 },
 "nbformat": 4,
 "nbformat_minor": 2
}
